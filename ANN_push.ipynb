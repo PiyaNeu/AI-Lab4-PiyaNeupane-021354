{
  "nbformat": 4,
  "nbformat_minor": 0,
  "metadata": {
    "colab": {
      "provenance": []
    },
    "kernelspec": {
      "name": "python3",
      "display_name": "Python 3"
    },
    "language_info": {
      "name": "python"
    }
  },
  "cells": [
    {
      "cell_type": "code",
      "execution_count": 1,
      "metadata": {
        "id": "00Cv14q7aM_d"
      },
      "outputs": [],
      "source": [
        "!git config --global user.name \"username\"\n",
        "!git config --global user.email \"email@gmail.com\"\n",
        "!git config --global user.password \"pass\""
      ]
    },
    {
      "cell_type": "code",
      "source": [
        "token = \"mytoken\"\n",
        "username = \"PiyaNeu\"\n",
        "repo = \"AI-Lab4-PiyaNeupane-021354\""
      ],
      "metadata": {
        "id": "102StcwQaUch"
      },
      "execution_count": 2,
      "outputs": []
    },
    {
      "cell_type": "code",
      "source": [
        "!git clone https://{token}@github.com/{username}/{repo}"
      ],
      "metadata": {
        "colab": {
          "base_uri": "https://localhost:8080/"
        },
        "id": "HISeJKUZae9Z",
        "outputId": "1ba3c31d-62fc-48fc-de6d-c4af4409e6a4"
      },
      "execution_count": 3,
      "outputs": [
        {
          "output_type": "stream",
          "name": "stdout",
          "text": [
            "Cloning into 'AI-Lab4-PiyaNeupane-021354'...\n",
            "remote: Enumerating objects: 3, done.\u001b[K\n",
            "remote: Counting objects: 100% (3/3), done.\u001b[K\n",
            "remote: Total 3 (delta 0), reused 0 (delta 0), pack-reused 0 (from 0)\u001b[K\n",
            "Receiving objects: 100% (3/3), done.\n"
          ]
        }
      ]
    },
    {
      "cell_type": "code",
      "source": [
        "%cd {repo}"
      ],
      "metadata": {
        "colab": {
          "base_uri": "https://localhost:8080/"
        },
        "id": "IpbB2eQbaiuu",
        "outputId": "d2e68d3d-0d9e-4008-b735-828a8ee0d615"
      },
      "execution_count": 4,
      "outputs": [
        {
          "output_type": "stream",
          "name": "stdout",
          "text": [
            "/content/AI-Lab4-PiyaNeupane-021354\n"
          ]
        }
      ]
    },
    {
      "cell_type": "code",
      "source": [
        "!mv /content/Perceptron_for_2_Input_Basic_Gates.py /content/AI-Lab4-PiyaNeupane-021354"
      ],
      "metadata": {
        "id": "_VXDPH1malOI"
      },
      "execution_count": 8,
      "outputs": []
    },
    {
      "cell_type": "code",
      "source": [
        "!mv /content/Perceptron_for_n_Input_Basic_Gates.py /content/AI-Lab4-PiyaNeupane-021354"
      ],
      "metadata": {
        "id": "-qX-DtndapV0"
      },
      "execution_count": 9,
      "outputs": []
    },
    {
      "cell_type": "code",
      "source": [
        "!mv /content/Perceptron_for_Linear_Function_with_3_Features.py /content/AI-Lab4-PiyaNeupane-021354"
      ],
      "metadata": {
        "id": "QnUlyS1capdj"
      },
      "execution_count": 10,
      "outputs": []
    },
    {
      "cell_type": "code",
      "source": [
        "!mv /content/Perceptron_for_Linear_Function_with_n_Features.py /content/AI-Lab4-PiyaNeupane-021354"
      ],
      "metadata": {
        "id": "ffDN2XMTapn1"
      },
      "execution_count": 11,
      "outputs": []
    },
    {
      "cell_type": "code",
      "source": [
        "!git add --all"
      ],
      "metadata": {
        "id": "Nfk9EfhTbIVS"
      },
      "execution_count": 12,
      "outputs": []
    },
    {
      "cell_type": "code",
      "source": [
        "!git commit -a -m \"Added a file to the AI LAB 4\""
      ],
      "metadata": {
        "colab": {
          "base_uri": "https://localhost:8080/"
        },
        "id": "ylOPtRxqbIYA",
        "outputId": "edc7396b-8d27-44ea-b2fc-b38d0173bc19"
      },
      "execution_count": 13,
      "outputs": [
        {
          "output_type": "stream",
          "name": "stdout",
          "text": [
            "[main b21abc5] Added a file to the AI LAB 4\n",
            " 4 files changed, 164 insertions(+)\n",
            " create mode 100644 Perceptron_for_2_Input_Basic_Gates.py\n",
            " create mode 100644 Perceptron_for_Linear_Function_with_3_Features.py\n",
            " create mode 100644 Perceptron_for_Linear_Function_with_n_Features.py\n",
            " create mode 100644 Perceptron_for_n_Input_Basic_Gates.py\n"
          ]
        }
      ]
    },
    {
      "cell_type": "code",
      "source": [
        "!git push origin main"
      ],
      "metadata": {
        "colab": {
          "base_uri": "https://localhost:8080/"
        },
        "id": "fYb_oGyZbIax",
        "outputId": "4e5ca05f-2628-4874-d490-a1cb361a0f06"
      },
      "execution_count": 14,
      "outputs": [
        {
          "output_type": "stream",
          "name": "stdout",
          "text": [
            "Enumerating objects: 7, done.\n",
            "Counting objects:  14% (1/7)\rCounting objects:  28% (2/7)\rCounting objects:  42% (3/7)\rCounting objects:  57% (4/7)\rCounting objects:  71% (5/7)\rCounting objects:  85% (6/7)\rCounting objects: 100% (7/7)\rCounting objects: 100% (7/7), done.\n",
            "Delta compression using up to 2 threads\n",
            "Compressing objects:  16% (1/6)\rCompressing objects:  33% (2/6)\rCompressing objects:  50% (3/6)\rCompressing objects:  66% (4/6)\rCompressing objects:  83% (5/6)\rCompressing objects: 100% (6/6)\rCompressing objects: 100% (6/6), done.\n",
            "Writing objects:  16% (1/6)\rWriting objects:  33% (2/6)\rWriting objects:  66% (4/6)\rWriting objects: 100% (6/6)\rWriting objects: 100% (6/6), 2.03 KiB | 2.03 MiB/s, done.\n",
            "Total 6 (delta 2), reused 0 (delta 0), pack-reused 0\n",
            "remote: Resolving deltas: 100% (2/2), done.\u001b[K\n",
            "To https://github.com/PiyaNeu/AI-Lab4-PiyaNeupane-021354\n",
            "   d40ef4c..b21abc5  main -> main\n"
          ]
        }
      ]
    }
  ]
}